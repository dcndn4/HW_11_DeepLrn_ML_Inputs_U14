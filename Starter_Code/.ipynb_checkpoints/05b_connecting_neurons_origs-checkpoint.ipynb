{
 "cells": [
  {
   "cell_type": "code",
   "execution_count": 1,
   "metadata": {},
   "outputs": [
    {
     "name": "stdout",
     "output_type": "stream",
     "text": [
      "05-Evr_Colab\n"
     ]
    }
   ],
   "source": [
    "# 8:25 PM\n",
    "# 8:45 PM\n",
    "import os; print(os.path.dirname(os.getcwd()).split('\\\\')[-1])"
   ]
  },
  {
   "cell_type": "markdown",
   "metadata": {},
   "source": [
    "# is the time right?\n",
    "8:25 PM\n",
    "8:45 PM"
   ]
  },
  {
   "cell_type": "markdown",
   "metadata": {},
   "source": [
    "# Instructor Do: Connecting Neurons"
   ]
  },
  {
   "cell_type": "code",
   "execution_count": 2,
   "metadata": {},
   "outputs": [],
   "source": [
    "# Initial imports\n",
    "import pandas as pd\n",
    "import numpy as np\n",
    "# import hvplot.pandas\n",
    "# import holoviews as hv\n",
    "from sklearn.datasets import make_moons\n",
    "from sklearn.model_selection import train_test_split\n",
    "from sklearn.preprocessing import StandardScaler\n",
    "from tensorflow.keras.models import Sequential\n",
    "from tensorflow.keras.layers import Dense"
   ]
  },
  {
   "cell_type": "markdown",
   "metadata": {},
   "source": [
    "## Creating Dummy Data"
   ]
  },
  {
   "cell_type": "code",
   "execution_count": 3,
   "metadata": {},
   "outputs": [],
   "source": [
    "# Creating dummy non-linear data\n",
    "X_moons, y_moons = make_moons(n_samples=1000, noise=0.08, random_state=78)"
   ]
  },
  {
   "cell_type": "code",
   "execution_count": 4,
   "metadata": {},
   "outputs": [],
   "source": [
    "# Transforming y_moons to a vertical vector\n",
    "y_moons = y_moons.reshape(-1, 1)"
   ]
  },
  {
   "cell_type": "code",
   "execution_count": 5,
   "metadata": {},
   "outputs": [
    {
     "data": {
      "text/html": [
       "<div>\n",
       "<style scoped>\n",
       "    .dataframe tbody tr th:only-of-type {\n",
       "        vertical-align: middle;\n",
       "    }\n",
       "\n",
       "    .dataframe tbody tr th {\n",
       "        vertical-align: top;\n",
       "    }\n",
       "\n",
       "    .dataframe thead th {\n",
       "        text-align: right;\n",
       "    }\n",
       "</style>\n",
       "<table border=\"1\" class=\"dataframe\">\n",
       "  <thead>\n",
       "    <tr style=\"text-align: right;\">\n",
       "      <th></th>\n",
       "      <th>Feature 1</th>\n",
       "      <th>Feature 2</th>\n",
       "      <th>Target</th>\n",
       "    </tr>\n",
       "  </thead>\n",
       "  <tbody>\n",
       "    <tr>\n",
       "      <th>0</th>\n",
       "      <td>0.676217</td>\n",
       "      <td>0.815220</td>\n",
       "      <td>0</td>\n",
       "    </tr>\n",
       "    <tr>\n",
       "      <th>1</th>\n",
       "      <td>1.487143</td>\n",
       "      <td>-0.210519</td>\n",
       "      <td>1</td>\n",
       "    </tr>\n",
       "    <tr>\n",
       "      <th>2</th>\n",
       "      <td>-1.027709</td>\n",
       "      <td>0.354966</td>\n",
       "      <td>0</td>\n",
       "    </tr>\n",
       "    <tr>\n",
       "      <th>3</th>\n",
       "      <td>0.236012</td>\n",
       "      <td>1.025531</td>\n",
       "      <td>0</td>\n",
       "    </tr>\n",
       "    <tr>\n",
       "      <th>4</th>\n",
       "      <td>1.856695</td>\n",
       "      <td>-0.042783</td>\n",
       "      <td>1</td>\n",
       "    </tr>\n",
       "  </tbody>\n",
       "</table>\n",
       "</div>"
      ],
      "text/plain": [
       "   Feature 1  Feature 2  Target\n",
       "0   0.676217   0.815220       0\n",
       "1   1.487143  -0.210519       1\n",
       "2  -1.027709   0.354966       0\n",
       "3   0.236012   1.025531       0\n",
       "4   1.856695  -0.042783       1"
      ]
     },
     "execution_count": 5,
     "metadata": {},
     "output_type": "execute_result"
    }
   ],
   "source": [
    "# Creating a DataFrame to plot the non-linear dummy data\n",
    "df_moons = pd.DataFrame(X_moons, columns=[\"Feature 1\", \"Feature 2\"])\n",
    "df_moons[\"Target\"] = y_moons\n",
    "df_moons.head()"
   ]
  },
  {
   "cell_type": "code",
   "execution_count": 6,
   "metadata": {
    "collapsed": true,
    "jupyter": {
     "outputs_hidden": true
    },
    "tags": []
   },
   "outputs": [
    {
     "ename": "NameError",
     "evalue": "name 'hv' is not defined",
     "output_type": "error",
     "traceback": [
      "\u001b[1;31m---------------------------------------------------------------------------\u001b[0m",
      "\u001b[1;31mNameError\u001b[0m                                 Traceback (most recent call last)",
      "\u001b[1;32m~\\AppData\\Local\\Temp/ipykernel_10652/34252187.py\u001b[0m in \u001b[0;36m<module>\u001b[1;34m\u001b[0m\n\u001b[0;32m      1\u001b[0m \u001b[1;31m# Plotting the non-linear dummy data\u001b[0m\u001b[1;33m\u001b[0m\u001b[1;33m\u001b[0m\u001b[1;33m\u001b[0m\u001b[0m\n\u001b[0;32m      2\u001b[0m \u001b[1;33m\u001b[0m\u001b[0m\n\u001b[1;32m----> 3\u001b[1;33m \u001b[0mhv\u001b[0m\u001b[1;33m.\u001b[0m\u001b[0mextension\u001b[0m\u001b[1;33m(\u001b[0m\u001b[1;34m\"bokeh\"\u001b[0m\u001b[1;33m)\u001b[0m\u001b[1;33m\u001b[0m\u001b[1;33m\u001b[0m\u001b[0m\n\u001b[0m\u001b[0;32m      4\u001b[0m \u001b[0mplot\u001b[0m \u001b[1;33m=\u001b[0m \u001b[0mdf_moons\u001b[0m\u001b[1;33m.\u001b[0m\u001b[0mhvplot\u001b[0m\u001b[1;33m.\u001b[0m\u001b[0mscatter\u001b[0m\u001b[1;33m(\u001b[0m\u001b[0mx\u001b[0m\u001b[1;33m=\u001b[0m\u001b[1;34m\"Feature 1\"\u001b[0m\u001b[1;33m,\u001b[0m \u001b[0my\u001b[0m\u001b[1;33m=\u001b[0m\u001b[1;34m\"Feature 2\"\u001b[0m\u001b[1;33m,\u001b[0m \u001b[0mby\u001b[0m\u001b[1;33m=\u001b[0m\u001b[1;34m\"Target\"\u001b[0m\u001b[1;33m)\u001b[0m\u001b[1;33m\u001b[0m\u001b[1;33m\u001b[0m\u001b[0m\n\u001b[0;32m      5\u001b[0m \u001b[0mplot\u001b[0m\u001b[1;33m\u001b[0m\u001b[1;33m\u001b[0m\u001b[0m\n",
      "\u001b[1;31mNameError\u001b[0m: name 'hv' is not defined"
     ]
    }
   ],
   "source": [
    "# Plotting the non-linear dummy data\n",
    "\n",
    "# hv.extension(\"bokeh\")\n",
    "# plot = df_moons.hvplot.scatter(x=\"Feature 1\", y=\"Feature 2\", by=\"Target\")\n",
    "# plot"
   ]
  },
  {
   "cell_type": "markdown",
   "metadata": {},
   "source": [
    "## Data Preprocessing"
   ]
  },
  {
   "cell_type": "code",
   "execution_count": 7,
   "metadata": {},
   "outputs": [],
   "source": [
    "# Create training and testing sets\n",
    "X_moon_train, X_moon_test, y_moon_train, y_moon_test = train_test_split(\n",
    "    X_moons, y_moons, random_state=78\n",
    ")"
   ]
  },
  {
   "cell_type": "code",
   "execution_count": 8,
   "metadata": {},
   "outputs": [],
   "source": [
    "# Create the scaler instance\n",
    "X_moon_scaler = StandardScaler()"
   ]
  },
  {
   "cell_type": "code",
   "execution_count": 9,
   "metadata": {},
   "outputs": [
    {
     "data": {
      "text/plain": [
       "StandardScaler()"
      ]
     },
     "execution_count": 9,
     "metadata": {},
     "output_type": "execute_result"
    }
   ],
   "source": [
    "# Fit the scaler\n",
    "X_moon_scaler.fit(X_moon_train)"
   ]
  },
  {
   "cell_type": "code",
   "execution_count": 10,
   "metadata": {},
   "outputs": [],
   "source": [
    "# Scale the data\n",
    "X_moon_train_scaled = X_moon_scaler.transform(X_moon_train)\n",
    "X_moon_test_scaled = X_moon_scaler.transform(X_moon_test)"
   ]
  },
  {
   "cell_type": "markdown",
   "metadata": {},
   "source": [
    "## Neural Network Model Creation"
   ]
  },
  {
   "cell_type": "code",
   "execution_count": 11,
   "metadata": {},
   "outputs": [],
   "source": [
    "# Create the sequential model\n",
    "nn = Sequential()"
   ]
  },
  {
   "cell_type": "markdown",
   "metadata": {},
   "source": [
    "### Fisrt Layer"
   ]
  },
  {
   "cell_type": "code",
   "execution_count": 12,
   "metadata": {},
   "outputs": [],
   "source": [
    "# First layer\n",
    "number_inputs = 2\n",
    "number_hidden_nodes = 6\n",
    "\n",
    "nn.add(Dense(units=number_hidden_nodes, activation=\"relu\", input_dim=number_inputs))"
   ]
  },
  {
   "cell_type": "markdown",
   "metadata": {},
   "source": [
    "### Output Layer"
   ]
  },
  {
   "cell_type": "markdown",
   "metadata": {},
   "source": [
    "<font color='red'>@@@</font>\n",
    "\n",
    "This is the final output layer. We have a binary row as output, so output units = 1.\n",
    "\n",
    "The number of classes is the number of neurons in the final output layer. \n",
    "\n",
    "If you were predicting 0-9 digits, then you would have 10 neurons.\n",
    "\n",
    "<font color='red'>@@@</font>"
   ]
  },
  {
   "cell_type": "code",
   "execution_count": 13,
   "metadata": {},
   "outputs": [],
   "source": [
    "# Output layer\n",
    "number_classes = 1\n",
    "\n",
    "nn.add(Dense(units=number_classes, activation=\"sigmoid\"))"
   ]
  },
  {
   "cell_type": "code",
   "execution_count": 14,
   "metadata": {},
   "outputs": [
    {
     "name": "stdout",
     "output_type": "stream",
     "text": [
      "Model: \"sequential\"\n",
      "_________________________________________________________________\n",
      " Layer (type)                Output Shape              Param #   \n",
      "=================================================================\n",
      " dense (Dense)               (None, 6)                 18        \n",
      "                                                                 \n",
      " dense_1 (Dense)             (None, 1)                 7         \n",
      "                                                                 \n",
      "=================================================================\n",
      "Total params: 25\n",
      "Trainable params: 25\n",
      "Non-trainable params: 0\n",
      "_________________________________________________________________\n"
     ]
    }
   ],
   "source": [
    "# Model summary\n",
    "nn.summary()"
   ]
  },
  {
   "cell_type": "markdown",
   "metadata": {},
   "source": [
    "## Compile the Model"
   ]
  },
  {
   "cell_type": "code",
   "execution_count": 15,
   "metadata": {},
   "outputs": [],
   "source": [
    "# Compile model\n",
    "nn.compile(loss=\"binary_crossentropy\", optimizer=\"adam\", metrics=[\"accuracy\"])"
   ]
  },
  {
   "cell_type": "markdown",
   "metadata": {},
   "source": [
    "## Fit the Model"
   ]
  },
  {
   "cell_type": "code",
   "execution_count": 16,
   "metadata": {
    "collapsed": true,
    "jupyter": {
     "outputs_hidden": true
    },
    "tags": []
   },
   "outputs": [
    {
     "name": "stdout",
     "output_type": "stream",
     "text": [
      "Epoch 1/100\n",
      "24/24 [==============================] - 0s 1ms/step - loss: 0.6854 - accuracy: 0.4760\n",
      "Epoch 2/100\n",
      "24/24 [==============================] - 0s 976us/step - loss: 0.6396 - accuracy: 0.4760\n",
      "Epoch 3/100\n",
      "24/24 [==============================] - 0s 876us/step - loss: 0.5993 - accuracy: 0.4720\n",
      "Epoch 4/100\n",
      "24/24 [==============================] - 0s 881us/step - loss: 0.5639 - accuracy: 0.4800\n",
      "Epoch 5/100\n",
      "24/24 [==============================] - 0s 870us/step - loss: 0.5330 - accuracy: 0.5853\n",
      "Epoch 6/100\n",
      "24/24 [==============================] - 0s 899us/step - loss: 0.5054 - accuracy: 0.7920\n",
      "Epoch 7/100\n",
      "24/24 [==============================] - 0s 898us/step - loss: 0.4808 - accuracy: 0.8427\n",
      "Epoch 8/100\n",
      "24/24 [==============================] - 0s 872us/step - loss: 0.4588 - accuracy: 0.8560\n",
      "Epoch 9/100\n",
      "24/24 [==============================] - 0s 994us/step - loss: 0.4392 - accuracy: 0.8653\n",
      "Epoch 10/100\n",
      "24/24 [==============================] - 0s 868us/step - loss: 0.4213 - accuracy: 0.8653\n",
      "Epoch 11/100\n",
      "24/24 [==============================] - 0s 913us/step - loss: 0.4052 - accuracy: 0.8693\n",
      "Epoch 12/100\n",
      "24/24 [==============================] - 0s 870us/step - loss: 0.3906 - accuracy: 0.8707\n",
      "Epoch 13/100\n",
      "24/24 [==============================] - 0s 783us/step - loss: 0.3772 - accuracy: 0.8720\n",
      "Epoch 14/100\n",
      "24/24 [==============================] - 0s 833us/step - loss: 0.3648 - accuracy: 0.8747\n",
      "Epoch 15/100\n",
      "24/24 [==============================] - 0s 801us/step - loss: 0.3541 - accuracy: 0.8800\n",
      "Epoch 16/100\n",
      "24/24 [==============================] - 0s 869us/step - loss: 0.3439 - accuracy: 0.8827\n",
      "Epoch 17/100\n",
      "24/24 [==============================] - 0s 836us/step - loss: 0.3349 - accuracy: 0.8840\n",
      "Epoch 18/100\n",
      "24/24 [==============================] - 0s 782us/step - loss: 0.3268 - accuracy: 0.8853\n",
      "Epoch 19/100\n",
      "24/24 [==============================] - 0s 834us/step - loss: 0.3192 - accuracy: 0.8867\n",
      "Epoch 20/100\n",
      "24/24 [==============================] - 0s 826us/step - loss: 0.3123 - accuracy: 0.8853\n",
      "Epoch 21/100\n",
      "24/24 [==============================] - 0s 869us/step - loss: 0.3060 - accuracy: 0.8853\n",
      "Epoch 22/100\n",
      "24/24 [==============================] - 0s 838us/step - loss: 0.3001 - accuracy: 0.8840\n",
      "Epoch 23/100\n",
      "24/24 [==============================] - 0s 783us/step - loss: 0.2949 - accuracy: 0.8840\n",
      "Epoch 24/100\n",
      "24/24 [==============================] - 0s 870us/step - loss: 0.2901 - accuracy: 0.8827\n",
      "Epoch 25/100\n",
      "24/24 [==============================] - 0s 881us/step - loss: 0.2858 - accuracy: 0.8827\n",
      "Epoch 26/100\n",
      "24/24 [==============================] - 0s 838us/step - loss: 0.2819 - accuracy: 0.8813\n",
      "Epoch 27/100\n",
      "24/24 [==============================] - 0s 826us/step - loss: 0.2784 - accuracy: 0.8813\n",
      "Epoch 28/100\n",
      "24/24 [==============================] - 0s 832us/step - loss: 0.2755 - accuracy: 0.8827\n",
      "Epoch 29/100\n",
      "24/24 [==============================] - 0s 751us/step - loss: 0.2729 - accuracy: 0.8813\n",
      "Epoch 30/100\n",
      "24/24 [==============================] - 0s 824us/step - loss: 0.2703 - accuracy: 0.8827\n",
      "Epoch 31/100\n",
      "24/24 [==============================] - 0s 783us/step - loss: 0.2682 - accuracy: 0.8827\n",
      "Epoch 32/100\n",
      "24/24 [==============================] - 0s 826us/step - loss: 0.2663 - accuracy: 0.8813\n",
      "Epoch 33/100\n",
      "24/24 [==============================] - 0s 793us/step - loss: 0.2644 - accuracy: 0.8827\n",
      "Epoch 34/100\n",
      "24/24 [==============================] - 0s 783us/step - loss: 0.2628 - accuracy: 0.8827\n",
      "Epoch 35/100\n",
      "24/24 [==============================] - 0s 913us/step - loss: 0.2613 - accuracy: 0.8840\n",
      "Epoch 36/100\n",
      "24/24 [==============================] - 0s 826us/step - loss: 0.2600 - accuracy: 0.8853\n",
      "Epoch 37/100\n",
      "24/24 [==============================] - 0s 783us/step - loss: 0.2587 - accuracy: 0.8853\n",
      "Epoch 38/100\n",
      "24/24 [==============================] - 0s 810us/step - loss: 0.2576 - accuracy: 0.8853\n",
      "Epoch 39/100\n",
      "24/24 [==============================] - 0s 783us/step - loss: 0.2564 - accuracy: 0.8853\n",
      "Epoch 40/100\n",
      "24/24 [==============================] - 0s 826us/step - loss: 0.2556 - accuracy: 0.8853\n",
      "Epoch 41/100\n",
      "24/24 [==============================] - 0s 746us/step - loss: 0.2546 - accuracy: 0.8853\n",
      "Epoch 42/100\n",
      "24/24 [==============================] - 0s 812us/step - loss: 0.2538 - accuracy: 0.8853\n",
      "Epoch 43/100\n",
      "24/24 [==============================] - 0s 739us/step - loss: 0.2530 - accuracy: 0.8867\n",
      "Epoch 44/100\n",
      "24/24 [==============================] - 0s 826us/step - loss: 0.2522 - accuracy: 0.8867\n",
      "Epoch 45/100\n",
      "24/24 [==============================] - 0s 783us/step - loss: 0.2515 - accuracy: 0.8853\n",
      "Epoch 46/100\n",
      "24/24 [==============================] - 0s 826us/step - loss: 0.2508 - accuracy: 0.8880\n",
      "Epoch 47/100\n",
      "24/24 [==============================] - 0s 877us/step - loss: 0.2502 - accuracy: 0.8880\n",
      "Epoch 48/100\n",
      "24/24 [==============================] - 0s 750us/step - loss: 0.2496 - accuracy: 0.8880\n",
      "Epoch 49/100\n",
      "24/24 [==============================] - 0s 826us/step - loss: 0.2489 - accuracy: 0.8880\n",
      "Epoch 50/100\n",
      "24/24 [==============================] - 0s 858us/step - loss: 0.2483 - accuracy: 0.8880\n",
      "Epoch 51/100\n",
      "24/24 [==============================] - 0s 783us/step - loss: 0.2477 - accuracy: 0.8893\n",
      "Epoch 52/100\n",
      "24/24 [==============================] - 0s 832us/step - loss: 0.2471 - accuracy: 0.8907\n",
      "Epoch 53/100\n",
      "24/24 [==============================] - 0s 783us/step - loss: 0.2465 - accuracy: 0.8907\n",
      "Epoch 54/100\n",
      "24/24 [==============================] - 0s 826us/step - loss: 0.2460 - accuracy: 0.8907\n",
      "Epoch 55/100\n",
      "24/24 [==============================] - 0s 826us/step - loss: 0.2454 - accuracy: 0.8920\n",
      "Epoch 56/100\n",
      "24/24 [==============================] - 0s 969us/step - loss: 0.2450 - accuracy: 0.8907\n",
      "Epoch 57/100\n",
      "24/24 [==============================] - 0s 826us/step - loss: 0.2443 - accuracy: 0.8907\n",
      "Epoch 58/100\n",
      "24/24 [==============================] - 0s 834us/step - loss: 0.2439 - accuracy: 0.8933\n",
      "Epoch 59/100\n",
      "24/24 [==============================] - 0s 936us/step - loss: 0.2433 - accuracy: 0.8933\n",
      "Epoch 60/100\n",
      "24/24 [==============================] - 0s 913us/step - loss: 0.2428 - accuracy: 0.8947\n",
      "Epoch 61/100\n",
      "24/24 [==============================] - 0s 870us/step - loss: 0.2423 - accuracy: 0.8933\n",
      "Epoch 62/100\n",
      "24/24 [==============================] - 0s 1000us/step - loss: 0.2419 - accuracy: 0.8933\n",
      "Epoch 63/100\n",
      "24/24 [==============================] - 0s 1ms/step - loss: 0.2414 - accuracy: 0.8947\n",
      "Epoch 64/100\n",
      "24/24 [==============================] - 0s 956us/step - loss: 0.2410 - accuracy: 0.8933\n",
      "Epoch 65/100\n",
      "24/24 [==============================] - 0s 870us/step - loss: 0.2405 - accuracy: 0.8933\n",
      "Epoch 66/100\n",
      "24/24 [==============================] - 0s 919us/step - loss: 0.2400 - accuracy: 0.8960\n",
      "Epoch 67/100\n",
      "24/24 [==============================] - 0s 783us/step - loss: 0.2396 - accuracy: 0.8960\n",
      "Epoch 68/100\n",
      "24/24 [==============================] - 0s 832us/step - loss: 0.2391 - accuracy: 0.8960\n",
      "Epoch 69/100\n",
      "24/24 [==============================] - 0s 783us/step - loss: 0.2386 - accuracy: 0.8960\n",
      "Epoch 70/100\n",
      "24/24 [==============================] - 0s 783us/step - loss: 0.2383 - accuracy: 0.8960\n",
      "Epoch 71/100\n",
      "24/24 [==============================] - 0s 832us/step - loss: 0.2378 - accuracy: 0.8973\n",
      "Epoch 72/100\n",
      "24/24 [==============================] - 0s 783us/step - loss: 0.2374 - accuracy: 0.8973\n",
      "Epoch 73/100\n",
      "24/24 [==============================] - 0s 810us/step - loss: 0.2369 - accuracy: 0.8973\n",
      "Epoch 74/100\n",
      "24/24 [==============================] - 0s 783us/step - loss: 0.2365 - accuracy: 0.8973\n",
      "Epoch 75/100\n",
      "24/24 [==============================] - 0s 783us/step - loss: 0.2362 - accuracy: 0.8973\n",
      "Epoch 76/100\n",
      "24/24 [==============================] - 0s 826us/step - loss: 0.2357 - accuracy: 0.8973\n",
      "Epoch 77/100\n",
      "24/24 [==============================] - 0s 913us/step - loss: 0.2353 - accuracy: 0.8973\n",
      "Epoch 78/100\n",
      "24/24 [==============================] - 0s 2ms/step - loss: 0.2350 - accuracy: 0.8973\n",
      "Epoch 79/100\n",
      "24/24 [==============================] - 0s 2ms/step - loss: 0.2346 - accuracy: 0.8987\n",
      "Epoch 80/100\n",
      "24/24 [==============================] - 0s 1ms/step - loss: 0.2342 - accuracy: 0.8987\n",
      "Epoch 81/100\n",
      "24/24 [==============================] - 0s 904us/step - loss: 0.2338 - accuracy: 0.8987\n",
      "Epoch 82/100\n",
      "24/24 [==============================] - 0s 826us/step - loss: 0.2334 - accuracy: 0.8987\n",
      "Epoch 83/100\n",
      "24/24 [==============================] - 0s 786us/step - loss: 0.2331 - accuracy: 0.8987\n",
      "Epoch 84/100\n",
      "24/24 [==============================] - 0s 739us/step - loss: 0.2328 - accuracy: 0.8987\n",
      "Epoch 85/100\n",
      "24/24 [==============================] - 0s 850us/step - loss: 0.2324 - accuracy: 0.8987\n",
      "Epoch 86/100\n",
      "24/24 [==============================] - 0s 739us/step - loss: 0.2320 - accuracy: 0.8987\n",
      "Epoch 87/100\n",
      "24/24 [==============================] - 0s 786us/step - loss: 0.2315 - accuracy: 0.8987\n",
      "Epoch 88/100\n",
      "24/24 [==============================] - 0s 870us/step - loss: 0.2312 - accuracy: 0.8987\n",
      "Epoch 89/100\n",
      "24/24 [==============================] - 0s 783us/step - loss: 0.2308 - accuracy: 0.8987\n",
      "Epoch 90/100\n",
      "24/24 [==============================] - 0s 1ms/step - loss: 0.2306 - accuracy: 0.8987\n",
      "Epoch 91/100\n",
      "24/24 [==============================] - 0s 1000us/step - loss: 0.2300 - accuracy: 0.8987\n",
      "Epoch 92/100\n",
      "24/24 [==============================] - 0s 1ms/step - loss: 0.2298 - accuracy: 0.8987\n",
      "Epoch 93/100\n",
      "24/24 [==============================] - 0s 956us/step - loss: 0.2293 - accuracy: 0.8987\n",
      "Epoch 94/100\n",
      "24/24 [==============================] - 0s 826us/step - loss: 0.2289 - accuracy: 0.8987\n",
      "Epoch 95/100\n",
      "24/24 [==============================] - 0s 991us/step - loss: 0.2286 - accuracy: 0.8987\n",
      "Epoch 96/100\n",
      "24/24 [==============================] - 0s 869us/step - loss: 0.2282 - accuracy: 0.8987\n",
      "Epoch 97/100\n",
      "24/24 [==============================] - 0s 739us/step - loss: 0.2277 - accuracy: 0.8987\n",
      "Epoch 98/100\n",
      "24/24 [==============================] - 0s 744us/step - loss: 0.2275 - accuracy: 0.8987\n",
      "Epoch 99/100\n",
      "24/24 [==============================] - 0s 749us/step - loss: 0.2269 - accuracy: 0.8987\n",
      "Epoch 100/100\n",
      "24/24 [==============================] - 0s 783us/step - loss: 0.2265 - accuracy: 0.8987\n"
     ]
    }
   ],
   "source": [
    "# Training the model with the non-linear data\n",
    "model_moon = nn.fit(X_moon_train_scaled, y_moon_train, epochs=100)"
   ]
  },
  {
   "cell_type": "markdown",
   "metadata": {},
   "source": [
    "## Model Evaluation"
   ]
  },
  {
   "cell_type": "code",
   "execution_count": 17,
   "metadata": {},
   "outputs": [
    {
     "name": "stdout",
     "output_type": "stream",
     "text": [
      "8/8 - 0s - loss: 0.2278 - accuracy: 0.8760 - 104ms/epoch - 13ms/step\n",
      "Loss: 0.22780439257621765, Accuracy: 0.8759999871253967\n"
     ]
    }
   ],
   "source": [
    "# Evaluate the model using non-linear testing data\n",
    "model_moon_loss, model_moon_accuracy = nn.evaluate(\n",
    "    X_moon_test_scaled, y_moon_test, verbose=2\n",
    ")\n",
    "print(f\"Loss: {model_moon_loss}, Accuracy: {model_moon_accuracy}\")"
   ]
  }
 ],
 "metadata": {
  "file_extension": ".py",
  "kernelspec": {
   "display_name": "Python 3 (ipykernel)",
   "language": "python",
   "name": "python3"
  },
  "language_info": {
   "codemirror_mode": {
    "name": "ipython",
    "version": 3
   },
   "file_extension": ".py",
   "mimetype": "text/x-python",
   "name": "python",
   "nbconvert_exporter": "python",
   "pygments_lexer": "ipython3",
   "version": "3.7.11"
  },
  "mimetype": "text/x-python",
  "name": "python",
  "npconvert_exporter": "python",
  "pygments_lexer": "ipython3",
  "version": 3
 },
 "nbformat": 4,
 "nbformat_minor": 4
}
