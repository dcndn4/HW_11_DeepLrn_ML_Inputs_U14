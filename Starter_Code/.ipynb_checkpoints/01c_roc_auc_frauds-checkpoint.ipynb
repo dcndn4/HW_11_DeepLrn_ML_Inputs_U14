{
 "cells": [
  {
   "cell_type": "code",
   "execution_count": 1,
   "metadata": {},
   "outputs": [
    {
     "name": "stdout",
     "output_type": "stream",
     "text": [
      "GitHub\n"
     ]
    }
   ],
   "source": [
    "# 6:35 PM\n",
    "# 6:45 PM\n",
    "import os; print(os.path.dirname(os.getcwd()).split('\\\\')[-1])"
   ]
  },
  {
   "cell_type": "code",
   "execution_count": 2,
   "metadata": {},
   "outputs": [],
   "source": [
    "# Since these models can be slow to train, we shall use a timer to monitor expected runtime. This might be lowerbound since my desktop CPU is fairly fast.\n",
    "import time  # for stopwatch and sleep\n",
    "t1 = time.perf_counter()  # track execution time"
   ]
  },
  {
   "cell_type": "markdown",
   "metadata": {
    "tags": []
   },
   "source": [
    "# Instructor Do: Intro to the ROC Curve and AUC\n",
    "\n",
    "In this activity, students will learn how to measure the performance of a binary classification model by fetching metrics from Keras, as well as plotting and interpreting the ROC curve and AUC."
   ]
  },
  {
   "cell_type": "code",
   "execution_count": 3,
   "metadata": {},
   "outputs": [],
   "source": [
    "# Initial imports\n",
    "import pandas as pd\n",
    "import numpy as np\n",
    "import matplotlib.pyplot as plt\n",
    "import tensorflow as tf\n",
    "from pathlib import Path\n",
    "\n",
    "%matplotlib inline"
   ]
  },
  {
   "cell_type": "markdown",
   "metadata": {},
   "source": [
    "## The Dataset\n",
    "\n",
    "The data provided for this demo contains anonymous information about `284807` credit card transactions made by European credit cardholders in September 2013.\n",
    "\n",
    "The dataset is going to be used to create a binary classification model using a deep neural network to detect fraudulent transactions. It contains nine numerical variables, which are the result of PCA transformation to protect the confidentiality of credit cardholders. Only the transaction amount can be seen as is.\n",
    "\n",
    "This dataset is an abstract of the file shared by the [Machine Learning Group](http://mlg.ulb.ac.be) of the Université Libre de Bruxelles (ULB)."
   ]
  },
  {
   "cell_type": "code",
   "execution_count": 4,
   "metadata": {},
   "outputs": [
    {
     "data": {
      "text/html": [
       "<div>\n",
       "<style scoped>\n",
       "    .dataframe tbody tr th:only-of-type {\n",
       "        vertical-align: middle;\n",
       "    }\n",
       "\n",
       "    .dataframe tbody tr th {\n",
       "        vertical-align: top;\n",
       "    }\n",
       "\n",
       "    .dataframe thead th {\n",
       "        text-align: right;\n",
       "    }\n",
       "</style>\n",
       "<table border=\"1\" class=\"dataframe\">\n",
       "  <thead>\n",
       "    <tr style=\"text-align: right;\">\n",
       "      <th></th>\n",
       "      <th>V1</th>\n",
       "      <th>V2</th>\n",
       "      <th>V3</th>\n",
       "      <th>V4</th>\n",
       "      <th>V5</th>\n",
       "      <th>V6</th>\n",
       "      <th>V7</th>\n",
       "      <th>V8</th>\n",
       "      <th>V9</th>\n",
       "      <th>Amount</th>\n",
       "      <th>Class</th>\n",
       "    </tr>\n",
       "  </thead>\n",
       "  <tbody>\n",
       "    <tr>\n",
       "      <th>0</th>\n",
       "      <td>-1.359807</td>\n",
       "      <td>-0.072781</td>\n",
       "      <td>2.536347</td>\n",
       "      <td>1.378155</td>\n",
       "      <td>-0.338321</td>\n",
       "      <td>0.462388</td>\n",
       "      <td>0.239599</td>\n",
       "      <td>0.098698</td>\n",
       "      <td>0.363787</td>\n",
       "      <td>149.62</td>\n",
       "      <td>0</td>\n",
       "    </tr>\n",
       "    <tr>\n",
       "      <th>1</th>\n",
       "      <td>1.191857</td>\n",
       "      <td>0.266151</td>\n",
       "      <td>0.166480</td>\n",
       "      <td>0.448154</td>\n",
       "      <td>0.060018</td>\n",
       "      <td>-0.082361</td>\n",
       "      <td>-0.078803</td>\n",
       "      <td>0.085102</td>\n",
       "      <td>-0.255425</td>\n",
       "      <td>2.69</td>\n",
       "      <td>0</td>\n",
       "    </tr>\n",
       "    <tr>\n",
       "      <th>2</th>\n",
       "      <td>-1.358354</td>\n",
       "      <td>-1.340163</td>\n",
       "      <td>1.773209</td>\n",
       "      <td>0.379780</td>\n",
       "      <td>-0.503198</td>\n",
       "      <td>1.800499</td>\n",
       "      <td>0.791461</td>\n",
       "      <td>0.247676</td>\n",
       "      <td>-1.514654</td>\n",
       "      <td>378.66</td>\n",
       "      <td>0</td>\n",
       "    </tr>\n",
       "    <tr>\n",
       "      <th>3</th>\n",
       "      <td>-0.966272</td>\n",
       "      <td>-0.185226</td>\n",
       "      <td>1.792993</td>\n",
       "      <td>-0.863291</td>\n",
       "      <td>-0.010309</td>\n",
       "      <td>1.247203</td>\n",
       "      <td>0.237609</td>\n",
       "      <td>0.377436</td>\n",
       "      <td>-1.387024</td>\n",
       "      <td>123.50</td>\n",
       "      <td>0</td>\n",
       "    </tr>\n",
       "    <tr>\n",
       "      <th>4</th>\n",
       "      <td>-1.158233</td>\n",
       "      <td>0.877737</td>\n",
       "      <td>1.548718</td>\n",
       "      <td>0.403034</td>\n",
       "      <td>-0.407193</td>\n",
       "      <td>0.095921</td>\n",
       "      <td>0.592941</td>\n",
       "      <td>-0.270533</td>\n",
       "      <td>0.817739</td>\n",
       "      <td>69.99</td>\n",
       "      <td>0</td>\n",
       "    </tr>\n",
       "  </tbody>\n",
       "</table>\n",
       "</div>"
      ],
      "text/plain": [
       "         V1        V2        V3        V4        V5        V6        V7  \\\n",
       "0 -1.359807 -0.072781  2.536347  1.378155 -0.338321  0.462388  0.239599   \n",
       "1  1.191857  0.266151  0.166480  0.448154  0.060018 -0.082361 -0.078803   \n",
       "2 -1.358354 -1.340163  1.773209  0.379780 -0.503198  1.800499  0.791461   \n",
       "3 -0.966272 -0.185226  1.792993 -0.863291 -0.010309  1.247203  0.237609   \n",
       "4 -1.158233  0.877737  1.548718  0.403034 -0.407193  0.095921  0.592941   \n",
       "\n",
       "         V8        V9  Amount  Class  \n",
       "0  0.098698  0.363787  149.62      0  \n",
       "1  0.085102 -0.255425    2.69      0  \n",
       "2  0.247676 -1.514654  378.66      0  \n",
       "3  0.377436 -1.387024  123.50      0  \n",
       "4 -0.270533  0.817739   69.99      0  "
      ]
     },
     "execution_count": 4,
     "metadata": {},
     "output_type": "execute_result"
    }
   ],
   "source": [
    "# Import the dataset\n",
    "\n",
    "filepath=\"C:/Users/CS_Knit_tinK_SC/Documents/My Data Sources/121621/01_transactions.csv\"\n",
    "#file_path = Path(\"../Resources/transactions.csv\")\n",
    "transactions_df = pd.read_csv(filepath)\n",
    "transactions_df.head()"
   ]
  },
  {
   "cell_type": "code",
   "execution_count": 5,
   "metadata": {},
   "outputs": [
    {
     "data": {
      "text/plain": [
       "[0, 1]"
      ]
     },
     "execution_count": 5,
     "metadata": {},
     "output_type": "execute_result"
    }
   ],
   "source": [
    "sorted(transactions_df[\"Class\"].unique())"
   ]
  },
  {
   "cell_type": "markdown",
   "metadata": {},
   "source": [
    "## Data Preprocessing"
   ]
  },
  {
   "cell_type": "code",
   "execution_count": 6,
   "metadata": {},
   "outputs": [],
   "source": [
    "# Creating the X and y sets\n",
    "X = transactions_df.iloc[:, 0:10].values\n",
    "y = transactions_df[\"Class\"].values"
   ]
  },
  {
   "cell_type": "markdown",
   "metadata": {},
   "source": [
    "<font color='red'>@@@</font>\n",
    "\n",
    "Train test\n",
    "\n",
    "Validation train test.\n",
    "\n",
    "> You may ask, why not have two sets: a training set and a test set? You’d train on the training data and evaluate on the test data. Much simpler!\n",
    "> \n",
    "> The reason is that developing a model always involves tuning its configuration: for example, choosing the number of layers or the size of the layers (called the hyperparameters of the model, to distinguish them from the parameters, which are the network’s weights). You do this tuning by using as a feedback signal the performance of the model on the validation data. In essence, this tuning is a form of learning: a search for a good configuration in some parameter space. As a result, tuning the configuration of the model based on its performance on the validation set can quickly result in overfitting to the validation set, even though your model is never directly trained on it.\n",
    "> \n",
    "> Central to this phenomenon is the notion of *information leaks*. Every time you tune a hyperparameter of your model based on the model’s performance on the validation set, some information about the validation data leaks into the model. If you do this only once, for one parameter, then very few bits of information will leak, and your validation set will remain reliable to evaluate the model. But if you repeat this many times—running one experiment, evaluating on the validation set, and modifying your model as a result—then you’ll leak an increasingly significant amount of information about the validation set into the model.\n",
    "> \n",
    "> At the end of the day, you’ll end up with a model that performs artificially well on the validation data, because that’s what you optimized it for. You care about performance on completely new data, not the validation data, so you need to use a completely different, never-before-seen dataset to evaluate the model: the test dataset. Your model shouldn’t have had access to any information about the test set, even indirectly. If anything about the model has been tuned based on test set performance, then your measure of generalization will be flawed.\n",
    "\n",
    "Deep Learning with Python, Francois Chollet, pg 97\n",
    "\n",
    "\n",
    "Quite simply, we're splitting the training set into two subsets: training & validation. This was our training & test split before. Now, we have a *holdout* set of data.\n",
    "\n",
    "<font color='red'>@@@</font>"
   ]
  },
  {
   "cell_type": "code",
   "execution_count": 7,
   "metadata": {},
   "outputs": [],
   "source": [
    "# Creating training, validation, and testing sets\n",
    "from sklearn.model_selection import train_test_split\n",
    "\n",
    "X_train, X_test, y_train, y_test = train_test_split(X, y, random_state=78)\n",
    "\n",
    "X_train, X_val, y_train, y_val = train_test_split(X_train, y_train, random_state=78)"
   ]
  },
  {
   "cell_type": "code",
   "execution_count": 8,
   "metadata": {},
   "outputs": [],
   "source": [
    "# Import the StandardScaler from sklearn\n",
    "from sklearn.preprocessing import StandardScaler\n",
    "\n",
    "# Scale the data\n",
    "scaler = StandardScaler().fit(X_train)\n",
    "X_train = scaler.transform(X_train)"
   ]
  },
  {
   "cell_type": "markdown",
   "metadata": {},
   "source": [
    "## Build and Train the Deep Learning Model"
   ]
  },
  {
   "cell_type": "markdown",
   "metadata": {},
   "source": [
    " ### Importing the Keras Modules"
   ]
  },
  {
   "cell_type": "code",
   "execution_count": 9,
   "metadata": {},
   "outputs": [],
   "source": [
    "# Import Keras modules for model creation\n",
    "from tensorflow.keras.models import Sequential\n",
    "from tensorflow.keras.layers import Dense"
   ]
  },
  {
   "cell_type": "markdown",
   "metadata": {},
   "source": [
    " ### Setting Up the Model"
   ]
  },
  {
   "cell_type": "code",
   "execution_count": 10,
   "metadata": {},
   "outputs": [],
   "source": [
    "# Model set-up\n",
    "number_input_features = 10\n",
    "hidden_nodes_layer1 = 15\n",
    "hidden_nodes_layer2 = 5"
   ]
  },
  {
   "cell_type": "markdown",
   "metadata": {},
   "source": [
    " ### Defining the Model's Structure"
   ]
  },
  {
   "cell_type": "markdown",
   "metadata": {},
   "source": [
    "<font color='red'>@@@</font>\n",
    "\n",
    "On choosing activation functions: \n",
    "\n",
    "> ...When looking for the best activation functions, just be creative. Try out different things and see what combinations lead to the best performance.\n",
    "\n",
    "https://stats.stackexchange.com/a/259323/103538\n",
    "\n",
    "> **If there are two mutually exclusive classes (binary classification), then your output layer will have one node and a sigmoid activation function should be used.** If there are more than two mutually exclusive classes (multiclass classification), then your output layer will have one node per class and a softmax activation should be used. If there are two or more mutually inclusive classes (multilabel classification), then your output layer will have one node for each class and a sigmoid activation function is used.\n",
    ">\n",
    "> Binary Classification: One node, sigmoid activation.\n",
    "> \n",
    "> Multiclass Classification: One node per class, softmax activation.\n",
    "> \n",
    "> Multilabel Classification: One node per class, sigmoid activation.\n",
    "\n",
    "https://machinelearningmastery.com/choose-an-activation-function-for-deep-learning/\n",
    "\n",
    "<font color='red'>@@@</font>"
   ]
  },
  {
   "cell_type": "code",
   "execution_count": 11,
   "metadata": {},
   "outputs": [],
   "source": [
    "# Define sequential model\n",
    "model = Sequential()\n",
    "\n",
    "# Layer 1 go to activation\n",
    "model.add(Dense(units=hidden_nodes_layer1, input_dim=number_input_features, activation=\"relu\"))\n",
    "\n",
    "# Layer 2\n",
    "model.add(Dense(units=hidden_nodes_layer2, activation=\"relu\"))\n",
    "\n",
    "# Output layer\n",
    "model.add(Dense(1, activation=\"sigmoid\"))"
   ]
  },
  {
   "cell_type": "markdown",
   "metadata": {},
   "source": [
    " ### Compiling the Model"
   ]
  },
  {
   "cell_type": "markdown",
   "metadata": {},
   "source": [
    "<font color='red'>@@@</font>\n",
    "\n",
    "`loss=\"binary_crossentropy\"` bc binary 1/0 classifcation.\n",
    "\n",
    "All the metrics you could want: https://www.tensorflow.org/api_docs/python/tf/keras/metrics?version=stable\n",
    "\n",
    "These metrics will help us assess the model. The only new one here is AUC.\n",
    "\n",
    "`name` is used to quicly identify each parameter during training and evaluation.\n",
    "\n",
    "<font color='red'>@@@</font>"
   ]
  },
  {
   "cell_type": "code",
   "execution_count": 12,
   "metadata": {},
   "outputs": [],
   "source": [
    "# Compile the model\n",
    "model.compile(\n",
    "    loss=\"binary_crossentropy\",\n",
    "    optimizer=\"adam\",\n",
    "    metrics=[\n",
    "        \"accuracy\",\n",
    "        tf.keras.metrics.TruePositives(name=\"tp\"),\n",
    "        tf.keras.metrics.TrueNegatives(name=\"tn\"),\n",
    "        tf.keras.metrics.FalsePositives(name=\"fp\"),\n",
    "        tf.keras.metrics.FalseNegatives(name=\"fn\"),\n",
    "        tf.keras.metrics.Precision(name=\"precision\"),\n",
    "        tf.keras.metrics.Recall(name=\"recall\"),\n",
    "        tf.keras.metrics.AUC(name=\"auc\"),                       # AUC - area under curve.. closer to 1 is best.\n",
    "    ],\n",
    ")"
   ]
  },
  {
   "cell_type": "code",
   "execution_count": 13,
   "metadata": {},
   "outputs": [
    {
     "name": "stdout",
     "output_type": "stream",
     "text": [
      "Model: \"sequential\"\n",
      "_________________________________________________________________\n",
      " Layer (type)                Output Shape              Param #   \n",
      "=================================================================\n",
      " dense (Dense)               (None, 15)                165       \n",
      "                                                                 \n",
      " dense_1 (Dense)             (None, 5)                 80        \n",
      "                                                                 \n",
      " dense_2 (Dense)             (None, 1)                 6         \n",
      "                                                                 \n",
      "=================================================================\n",
      "Total params: 251\n",
      "Trainable params: 251\n",
      "Non-trainable params: 0\n",
      "_________________________________________________________________\n"
     ]
    }
   ],
   "source": [
    "# Summarize the model\n",
    "model.summary()"
   ]
  },
  {
   "cell_type": "markdown",
   "metadata": {},
   "source": [
    " ### Training the Model"
   ]
  },
  {
   "cell_type": "markdown",
   "metadata": {},
   "source": [
    "<font color='red'>@@@</font>\n",
    "\n",
    "Batch size note:\n",
    "    \n",
    "> Optimization algorithms that use the entire training set are called batch or deterministic gradient methods, because they process all of the training examples simultaneously in a large batch. This terminology can be somewhat confusing because the word “batch” is also often used to describe the minibatch used by minibatch stochastic gradient descent. Typically the term “batch gradient descent” implies the use of the full training set, while the use of the term “batch” to describe a group of examples does not. For example, it is very common to use the term “batch size” to describe the size of a minibatch.\n",
    "\n",
    "Deep Learning, Ian Goodfellow et al, pg 278\n",
    "\n",
    "Determining the size of the batch is influence by...\n",
    "\n",
    "> Larger batches provide a more accurate estimate of the gradient, but with less than linear returns.\n",
    "> \n",
    "> Multicore architectures are usually underutilized by extremely small batches. This motivates using some absolute minimum batch size, below which there is no reduction in the time to process a minibatch.\n",
    "> \n",
    "> If all examples in the batch are to be processed in parallel (as is typically the case), then the amount of memory scales with the batch size. For many hardware setups this is the limiting factor in batch size.\n",
    ">\n",
    "> Some kinds of hardware achieve better runtime with specific sizes of arrays. Especially when using GPUs, it is common for power of 2 batch sizes to offer better runtime. Typical power of 2 batch sizes range from 32 to 256, with 16 sometimes being attempted for large models\n",
    "> \n",
    "> Small batches can offer a regularizing effect (Wilson and Martinez, 2003), perhaps due to the noise they add to the learning process. Generalization error is often best for a batch size of 1. Training with such a small batch size might require a small learning rate to maintain stability due to the high variance in the estimate of the gradient. The total runtime can be very high due to the need to make more steps, both because of the reduced learning rate and because it takes more steps to observe the entire training set\n",
    "\n",
    "Deep Learning, Ian Goodfellow et al, pg 279\n",
    "\n",
    "<font color='red'>@@@</font>"
   ]
  },
  {
   "cell_type": "code",
   "execution_count": 14,
   "metadata": {
    "collapsed": true,
    "jupyter": {
     "outputs_hidden": true
    },
    "tags": []
   },
   "outputs": [
    {
     "name": "stdout",
     "output_type": "stream",
     "text": [
      "Epoch 1/50\n",
      "161/161 [==============================] - 2s 5ms/step - loss: 0.4350 - accuracy: 0.9553 - tp: 2.0000 - tn: 153035.0000 - fp: 6911.0000 - fn: 255.0000 - precision: 2.8931e-04 - recall: 0.0078 - auc: 0.2085 - val_loss: 0.3097 - val_accuracy: 0.9980 - val_tp: 0.0000e+00 - val_tn: 53297.0000 - val_fp: 0.0000e+00 - val_fn: 105.0000 - val_precision: 0.0000e+00 - val_recall: 0.0000e+00 - val_auc: 0.1321\n",
      "Epoch 2/50\n",
      "161/161 [==============================] - 0s 2ms/step - loss: 0.0998 - accuracy: 0.9984 - tp: 0.0000e+00 - tn: 159946.0000 - fp: 0.0000e+00 - fn: 257.0000 - precision: 0.0000e+00 - recall: 0.0000e+00 - auc: 0.2086 - val_loss: 0.0992 - val_accuracy: 0.9980 - val_tp: 0.0000e+00 - val_tn: 53297.0000 - val_fp: 0.0000e+00 - val_fn: 105.0000 - val_precision: 0.0000e+00 - val_recall: 0.0000e+00 - val_auc: 0.2866\n",
      "Epoch 3/50\n",
      "161/161 [==============================] - 0s 2ms/step - loss: 0.0265 - accuracy: 0.9984 - tp: 0.0000e+00 - tn: 159946.0000 - fp: 0.0000e+00 - fn: 257.0000 - precision: 0.0000e+00 - recall: 0.0000e+00 - auc: 0.4926 - val_loss: 0.0684 - val_accuracy: 0.9980 - val_tp: 0.0000e+00 - val_tn: 53297.0000 - val_fp: 0.0000e+00 - val_fn: 105.0000 - val_precision: 0.0000e+00 - val_recall: 0.0000e+00 - val_auc: 0.5332\n",
      "Epoch 4/50\n",
      "161/161 [==============================] - 0s 2ms/step - loss: 0.0135 - accuracy: 0.9984 - tp: 0.0000e+00 - tn: 159946.0000 - fp: 0.0000e+00 - fn: 257.0000 - precision: 0.0000e+00 - recall: 0.0000e+00 - auc: 0.8140 - val_loss: 0.0638 - val_accuracy: 0.9980 - val_tp: 0.0000e+00 - val_tn: 53297.0000 - val_fp: 0.0000e+00 - val_fn: 105.0000 - val_precision: 0.0000e+00 - val_recall: 0.0000e+00 - val_auc: 0.6330\n",
      "Epoch 5/50\n",
      "161/161 [==============================] - 0s 2ms/step - loss: 0.0092 - accuracy: 0.9984 - tp: 5.0000 - tn: 159946.0000 - fp: 0.0000e+00 - fn: 252.0000 - precision: 1.0000 - recall: 0.0195 - auc: 0.8784 - val_loss: 0.0637 - val_accuracy: 0.9982 - val_tp: 14.0000 - val_tn: 53294.0000 - val_fp: 3.0000 - val_fn: 91.0000 - val_precision: 0.8235 - val_recall: 0.1333 - val_auc: 0.6865\n",
      "Epoch 6/50\n",
      "161/161 [==============================] - 0s 2ms/step - loss: 0.0072 - accuracy: 0.9987 - tp: 62.0000 - tn: 159935.0000 - fp: 11.0000 - fn: 195.0000 - precision: 0.8493 - recall: 0.2412 - auc: 0.8975 - val_loss: 0.0640 - val_accuracy: 0.9983 - val_tp: 21.0000 - val_tn: 53291.0000 - val_fp: 6.0000 - val_fn: 84.0000 - val_precision: 0.7778 - val_recall: 0.2000 - val_auc: 0.6994\n",
      "Epoch 7/50\n",
      "161/161 [==============================] - 0s 2ms/step - loss: 0.0061 - accuracy: 0.9988 - tp: 85.0000 - tn: 159929.0000 - fp: 17.0000 - fn: 172.0000 - precision: 0.8333 - recall: 0.3307 - auc: 0.9019 - val_loss: 0.0636 - val_accuracy: 0.9984 - val_tp: 27.0000 - val_tn: 53290.0000 - val_fp: 7.0000 - val_fn: 78.0000 - val_precision: 0.7941 - val_recall: 0.2571 - val_auc: 0.7093\n",
      "Epoch 8/50\n",
      "161/161 [==============================] - 0s 2ms/step - loss: 0.0055 - accuracy: 0.9989 - tp: 104.0000 - tn: 159928.0000 - fp: 18.0000 - fn: 153.0000 - precision: 0.8525 - recall: 0.4047 - auc: 0.9109 - val_loss: 0.0625 - val_accuracy: 0.9984 - val_tp: 31.0000 - val_tn: 53288.0000 - val_fp: 9.0000 - val_fn: 74.0000 - val_precision: 0.7750 - val_recall: 0.2952 - val_auc: 0.7142\n",
      "Epoch 9/50\n",
      "161/161 [==============================] - 0s 2ms/step - loss: 0.0051 - accuracy: 0.9990 - tp: 119.0000 - tn: 159924.0000 - fp: 22.0000 - fn: 138.0000 - precision: 0.8440 - recall: 0.4630 - auc: 0.9184 - val_loss: 0.0608 - val_accuracy: 0.9986 - val_tp: 37.0000 - val_tn: 53288.0000 - val_fp: 9.0000 - val_fn: 68.0000 - val_precision: 0.8043 - val_recall: 0.3524 - val_auc: 0.7174\n",
      "Epoch 10/50\n",
      "161/161 [==============================] - 0s 2ms/step - loss: 0.0048 - accuracy: 0.9991 - tp: 127.0000 - tn: 159924.0000 - fp: 22.0000 - fn: 130.0000 - precision: 0.8523 - recall: 0.4942 - auc: 0.9160 - val_loss: 0.0588 - val_accuracy: 0.9986 - val_tp: 39.0000 - val_tn: 53287.0000 - val_fp: 10.0000 - val_fn: 66.0000 - val_precision: 0.7959 - val_recall: 0.3714 - val_auc: 0.7304\n",
      "Epoch 11/50\n",
      "161/161 [==============================] - 0s 2ms/step - loss: 0.0046 - accuracy: 0.9991 - tp: 134.0000 - tn: 159925.0000 - fp: 21.0000 - fn: 123.0000 - precision: 0.8645 - recall: 0.5214 - auc: 0.9147 - val_loss: 0.0555 - val_accuracy: 0.9986 - val_tp: 42.0000 - val_tn: 53285.0000 - val_fp: 12.0000 - val_fn: 63.0000 - val_precision: 0.7778 - val_recall: 0.4000 - val_auc: 0.7592\n",
      "Epoch 12/50\n",
      "161/161 [==============================] - 0s 2ms/step - loss: 0.0044 - accuracy: 0.9991 - tp: 141.0000 - tn: 159925.0000 - fp: 21.0000 - fn: 116.0000 - precision: 0.8704 - recall: 0.5486 - auc: 0.9154 - val_loss: 0.0530 - val_accuracy: 0.9986 - val_tp: 43.0000 - val_tn: 53284.0000 - val_fp: 13.0000 - val_fn: 62.0000 - val_precision: 0.7679 - val_recall: 0.4095 - val_auc: 0.7632\n",
      "Epoch 13/50\n",
      "161/161 [==============================] - 0s 2ms/step - loss: 0.0043 - accuracy: 0.9992 - tp: 145.0000 - tn: 159923.0000 - fp: 23.0000 - fn: 112.0000 - precision: 0.8631 - recall: 0.5642 - auc: 0.9176 - val_loss: 0.0501 - val_accuracy: 0.9986 - val_tp: 42.0000 - val_tn: 53283.0000 - val_fp: 14.0000 - val_fn: 63.0000 - val_precision: 0.7500 - val_recall: 0.4000 - val_auc: 0.7670\n",
      "Epoch 14/50\n",
      "161/161 [==============================] - 0s 2ms/step - loss: 0.0042 - accuracy: 0.9992 - tp: 148.0000 - tn: 159924.0000 - fp: 22.0000 - fn: 109.0000 - precision: 0.8706 - recall: 0.5759 - auc: 0.9180 - val_loss: 0.0484 - val_accuracy: 0.9985 - val_tp: 45.0000 - val_tn: 53277.0000 - val_fp: 20.0000 - val_fn: 60.0000 - val_precision: 0.6923 - val_recall: 0.4286 - val_auc: 0.7839\n",
      "Epoch 15/50\n",
      "161/161 [==============================] - 0s 2ms/step - loss: 0.0041 - accuracy: 0.9992 - tp: 149.0000 - tn: 159926.0000 - fp: 20.0000 - fn: 108.0000 - precision: 0.8817 - recall: 0.5798 - auc: 0.9200 - val_loss: 0.0465 - val_accuracy: 0.9984 - val_tp: 46.0000 - val_tn: 53269.0000 - val_fp: 28.0000 - val_fn: 59.0000 - val_precision: 0.6216 - val_recall: 0.4381 - val_auc: 0.7931\n",
      "Epoch 16/50\n",
      "161/161 [==============================] - 0s 2ms/step - loss: 0.0040 - accuracy: 0.9992 - tp: 151.0000 - tn: 159925.0000 - fp: 21.0000 - fn: 106.0000 - precision: 0.8779 - recall: 0.5875 - auc: 0.9221 - val_loss: 0.0450 - val_accuracy: 0.9984 - val_tp: 45.0000 - val_tn: 53274.0000 - val_fp: 23.0000 - val_fn: 60.0000 - val_precision: 0.6618 - val_recall: 0.4286 - val_auc: 0.7939\n",
      "Epoch 17/50\n",
      "161/161 [==============================] - 0s 2ms/step - loss: 0.0040 - accuracy: 0.9992 - tp: 154.0000 - tn: 159925.0000 - fp: 21.0000 - fn: 103.0000 - precision: 0.8800 - recall: 0.5992 - auc: 0.9222 - val_loss: 0.0466 - val_accuracy: 0.9982 - val_tp: 49.0000 - val_tn: 53256.0000 - val_fp: 41.0000 - val_fn: 56.0000 - val_precision: 0.5444 - val_recall: 0.4667 - val_auc: 0.8003\n",
      "Epoch 18/50\n",
      "161/161 [==============================] - 0s 2ms/step - loss: 0.0039 - accuracy: 0.9992 - tp: 155.0000 - tn: 159927.0000 - fp: 19.0000 - fn: 102.0000 - precision: 0.8908 - recall: 0.6031 - auc: 0.9204 - val_loss: 0.0505 - val_accuracy: 0.9980 - val_tp: 51.0000 - val_tn: 53244.0000 - val_fp: 53.0000 - val_fn: 54.0000 - val_precision: 0.4904 - val_recall: 0.4857 - val_auc: 0.8106\n",
      "Epoch 19/50\n",
      "161/161 [==============================] - 0s 2ms/step - loss: 0.0039 - accuracy: 0.9993 - tp: 157.0000 - tn: 159926.0000 - fp: 20.0000 - fn: 100.0000 - precision: 0.8870 - recall: 0.6109 - auc: 0.9204 - val_loss: 0.0631 - val_accuracy: 0.9977 - val_tp: 55.0000 - val_tn: 53224.0000 - val_fp: 73.0000 - val_fn: 50.0000 - val_precision: 0.4297 - val_recall: 0.5238 - val_auc: 0.8255\n",
      "Epoch 20/50\n",
      "161/161 [==============================] - 0s 2ms/step - loss: 0.0039 - accuracy: 0.9992 - tp: 152.0000 - tn: 159928.0000 - fp: 18.0000 - fn: 105.0000 - precision: 0.8941 - recall: 0.5914 - auc: 0.9224 - val_loss: 0.0670 - val_accuracy: 0.9976 - val_tp: 56.0000 - val_tn: 53216.0000 - val_fp: 81.0000 - val_fn: 49.0000 - val_precision: 0.4088 - val_recall: 0.5333 - val_auc: 0.8275\n",
      "Epoch 21/50\n",
      "161/161 [==============================] - 0s 2ms/step - loss: 0.0038 - accuracy: 0.9993 - tp: 157.0000 - tn: 159927.0000 - fp: 19.0000 - fn: 100.0000 - precision: 0.8920 - recall: 0.6109 - auc: 0.9224 - val_loss: 0.0705 - val_accuracy: 0.9973 - val_tp: 54.0000 - val_tn: 53206.0000 - val_fp: 91.0000 - val_fn: 51.0000 - val_precision: 0.3724 - val_recall: 0.5143 - val_auc: 0.8085\n",
      "Epoch 22/50\n",
      "161/161 [==============================] - 0s 2ms/step - loss: 0.0038 - accuracy: 0.9993 - tp: 160.0000 - tn: 159926.0000 - fp: 20.0000 - fn: 97.0000 - precision: 0.8889 - recall: 0.6226 - auc: 0.9226 - val_loss: 0.0963 - val_accuracy: 0.9966 - val_tp: 56.0000 - val_tn: 53167.0000 - val_fp: 130.0000 - val_fn: 49.0000 - val_precision: 0.3011 - val_recall: 0.5333 - val_auc: 0.8104\n",
      "Epoch 23/50\n",
      "161/161 [==============================] - 0s 2ms/step - loss: 0.0038 - accuracy: 0.9993 - tp: 160.0000 - tn: 159926.0000 - fp: 20.0000 - fn: 97.0000 - precision: 0.8889 - recall: 0.6226 - auc: 0.9225 - val_loss: 0.0880 - val_accuracy: 0.9965 - val_tp: 51.0000 - val_tn: 53166.0000 - val_fp: 131.0000 - val_fn: 54.0000 - val_precision: 0.2802 - val_recall: 0.4857 - val_auc: 0.7934\n",
      "Epoch 24/50\n",
      "161/161 [==============================] - 0s 2ms/step - loss: 0.0037 - accuracy: 0.9993 - tp: 161.0000 - tn: 159927.0000 - fp: 19.0000 - fn: 96.0000 - precision: 0.8944 - recall: 0.6265 - auc: 0.9246 - val_loss: 0.1056 - val_accuracy: 0.9959 - val_tp: 54.0000 - val_tn: 53131.0000 - val_fp: 166.0000 - val_fn: 51.0000 - val_precision: 0.2455 - val_recall: 0.5143 - val_auc: 0.7964\n",
      "Epoch 25/50\n",
      "161/161 [==============================] - 0s 2ms/step - loss: 0.0037 - accuracy: 0.9993 - tp: 160.0000 - tn: 159926.0000 - fp: 20.0000 - fn: 97.0000 - precision: 0.8889 - recall: 0.6226 - auc: 0.9228 - val_loss: 0.1196 - val_accuracy: 0.9939 - val_tp: 59.0000 - val_tn: 53018.0000 - val_fp: 279.0000 - val_fn: 46.0000 - val_precision: 0.1746 - val_recall: 0.5619 - val_auc: 0.8038\n",
      "Epoch 26/50\n",
      "161/161 [==============================] - 0s 2ms/step - loss: 0.0037 - accuracy: 0.9993 - tp: 160.0000 - tn: 159925.0000 - fp: 21.0000 - fn: 97.0000 - precision: 0.8840 - recall: 0.6226 - auc: 0.9246 - val_loss: 0.1023 - val_accuracy: 0.9952 - val_tp: 54.0000 - val_tn: 53090.0000 - val_fp: 207.0000 - val_fn: 51.0000 - val_precision: 0.2069 - val_recall: 0.5143 - val_auc: 0.7864\n",
      "Epoch 27/50\n",
      "161/161 [==============================] - 0s 2ms/step - loss: 0.0037 - accuracy: 0.9993 - tp: 159.0000 - tn: 159928.0000 - fp: 18.0000 - fn: 98.0000 - precision: 0.8983 - recall: 0.6187 - auc: 0.9247 - val_loss: 0.1089 - val_accuracy: 0.9959 - val_tp: 52.0000 - val_tn: 53132.0000 - val_fp: 165.0000 - val_fn: 53.0000 - val_precision: 0.2396 - val_recall: 0.4952 - val_auc: 0.7825\n",
      "Epoch 28/50\n",
      "161/161 [==============================] - 0s 2ms/step - loss: 0.0036 - accuracy: 0.9993 - tp: 162.0000 - tn: 159927.0000 - fp: 19.0000 - fn: 95.0000 - precision: 0.8950 - recall: 0.6304 - auc: 0.9247 - val_loss: 0.0893 - val_accuracy: 0.9970 - val_tp: 50.0000 - val_tn: 53194.0000 - val_fp: 103.0000 - val_fn: 55.0000 - val_precision: 0.3268 - val_recall: 0.4762 - val_auc: 0.7680\n",
      "Epoch 29/50\n",
      "161/161 [==============================] - 0s 2ms/step - loss: 0.0036 - accuracy: 0.9993 - tp: 164.0000 - tn: 159926.0000 - fp: 20.0000 - fn: 93.0000 - precision: 0.8913 - recall: 0.6381 - auc: 0.9248 - val_loss: 0.0840 - val_accuracy: 0.9972 - val_tp: 50.0000 - val_tn: 53203.0000 - val_fp: 94.0000 - val_fn: 55.0000 - val_precision: 0.3472 - val_recall: 0.4762 - val_auc: 0.7641\n",
      "Epoch 30/50\n",
      "161/161 [==============================] - 0s 2ms/step - loss: 0.0036 - accuracy: 0.9993 - tp: 161.0000 - tn: 159927.0000 - fp: 19.0000 - fn: 96.0000 - precision: 0.8944 - recall: 0.6265 - auc: 0.9267 - val_loss: 0.0942 - val_accuracy: 0.9946 - val_tp: 51.0000 - val_tn: 53062.0000 - val_fp: 235.0000 - val_fn: 54.0000 - val_precision: 0.1783 - val_recall: 0.4857 - val_auc: 0.7785\n",
      "Epoch 31/50\n",
      "161/161 [==============================] - 0s 2ms/step - loss: 0.0036 - accuracy: 0.9993 - tp: 165.0000 - tn: 159927.0000 - fp: 19.0000 - fn: 92.0000 - precision: 0.8967 - recall: 0.6420 - auc: 0.9267 - val_loss: 0.0809 - val_accuracy: 0.9960 - val_tp: 51.0000 - val_tn: 53136.0000 - val_fp: 161.0000 - val_fn: 54.0000 - val_precision: 0.2406 - val_recall: 0.4857 - val_auc: 0.7711\n",
      "Epoch 32/50\n",
      "161/161 [==============================] - 0s 2ms/step - loss: 0.0036 - accuracy: 0.9993 - tp: 161.0000 - tn: 159927.0000 - fp: 19.0000 - fn: 96.0000 - precision: 0.8944 - recall: 0.6265 - auc: 0.9267 - val_loss: 0.0711 - val_accuracy: 0.9968 - val_tp: 50.0000 - val_tn: 53180.0000 - val_fp: 117.0000 - val_fn: 55.0000 - val_precision: 0.2994 - val_recall: 0.4762 - val_auc: 0.7712\n",
      "Epoch 33/50\n",
      "161/161 [==============================] - 0s 2ms/step - loss: 0.0036 - accuracy: 0.9993 - tp: 162.0000 - tn: 159925.0000 - fp: 21.0000 - fn: 95.0000 - precision: 0.8852 - recall: 0.6304 - auc: 0.9248 - val_loss: 0.0917 - val_accuracy: 0.9956 - val_tp: 53.0000 - val_tn: 53116.0000 - val_fp: 181.0000 - val_fn: 52.0000 - val_precision: 0.2265 - val_recall: 0.5048 - val_auc: 0.7979\n",
      "Epoch 34/50\n",
      "161/161 [==============================] - 0s 2ms/step - loss: 0.0035 - accuracy: 0.9993 - tp: 163.0000 - tn: 159926.0000 - fp: 20.0000 - fn: 94.0000 - precision: 0.8907 - recall: 0.6342 - auc: 0.9228 - val_loss: 0.0922 - val_accuracy: 0.9932 - val_tp: 57.0000 - val_tn: 52983.0000 - val_fp: 314.0000 - val_fn: 48.0000 - val_precision: 0.1536 - val_recall: 0.5429 - val_auc: 0.8185\n",
      "Epoch 35/50\n",
      "161/161 [==============================] - 0s 2ms/step - loss: 0.0035 - accuracy: 0.9993 - tp: 165.0000 - tn: 159925.0000 - fp: 21.0000 - fn: 92.0000 - precision: 0.8871 - recall: 0.6420 - auc: 0.9248 - val_loss: 0.0497 - val_accuracy: 0.9968 - val_tp: 51.0000 - val_tn: 53181.0000 - val_fp: 116.0000 - val_fn: 54.0000 - val_precision: 0.3054 - val_recall: 0.4857 - val_auc: 0.7883\n",
      "Epoch 36/50\n",
      "161/161 [==============================] - 0s 2ms/step - loss: 0.0035 - accuracy: 0.9993 - tp: 162.0000 - tn: 159924.0000 - fp: 22.0000 - fn: 95.0000 - precision: 0.8804 - recall: 0.6304 - auc: 0.9248 - val_loss: 0.0533 - val_accuracy: 0.9972 - val_tp: 51.0000 - val_tn: 53204.0000 - val_fp: 93.0000 - val_fn: 54.0000 - val_precision: 0.3542 - val_recall: 0.4857 - val_auc: 0.7896\n",
      "Epoch 37/50\n",
      "161/161 [==============================] - 0s 2ms/step - loss: 0.0035 - accuracy: 0.9993 - tp: 161.0000 - tn: 159926.0000 - fp: 20.0000 - fn: 96.0000 - precision: 0.8895 - recall: 0.6265 - auc: 0.9287 - val_loss: 0.0478 - val_accuracy: 0.9977 - val_tp: 51.0000 - val_tn: 53226.0000 - val_fp: 71.0000 - val_fn: 54.0000 - val_precision: 0.4180 - val_recall: 0.4857 - val_auc: 0.7874\n",
      "Epoch 38/50\n",
      "161/161 [==============================] - 0s 2ms/step - loss: 0.0035 - accuracy: 0.9993 - tp: 163.0000 - tn: 159926.0000 - fp: 20.0000 - fn: 94.0000 - precision: 0.8907 - recall: 0.6342 - auc: 0.9305 - val_loss: 0.0526 - val_accuracy: 0.9978 - val_tp: 53.0000 - val_tn: 53231.0000 - val_fp: 66.0000 - val_fn: 52.0000 - val_precision: 0.4454 - val_recall: 0.5048 - val_auc: 0.8007\n",
      "Epoch 39/50\n",
      "161/161 [==============================] - 0s 2ms/step - loss: 0.0035 - accuracy: 0.9993 - tp: 163.0000 - tn: 159924.0000 - fp: 22.0000 - fn: 94.0000 - precision: 0.8811 - recall: 0.6342 - auc: 0.9286 - val_loss: 0.0404 - val_accuracy: 0.9980 - val_tp: 52.0000 - val_tn: 53242.0000 - val_fp: 55.0000 - val_fn: 53.0000 - val_precision: 0.4860 - val_recall: 0.4952 - val_auc: 0.7935\n",
      "Epoch 40/50\n",
      "161/161 [==============================] - 0s 2ms/step - loss: 0.0035 - accuracy: 0.9993 - tp: 167.0000 - tn: 159924.0000 - fp: 22.0000 - fn: 90.0000 - precision: 0.8836 - recall: 0.6498 - auc: 0.9307 - val_loss: 0.0469 - val_accuracy: 0.9980 - val_tp: 52.0000 - val_tn: 53243.0000 - val_fp: 54.0000 - val_fn: 53.0000 - val_precision: 0.4906 - val_recall: 0.4952 - val_auc: 0.7924\n",
      "Epoch 41/50\n",
      "161/161 [==============================] - 0s 2ms/step - loss: 0.0035 - accuracy: 0.9993 - tp: 165.0000 - tn: 159924.0000 - fp: 22.0000 - fn: 92.0000 - precision: 0.8824 - recall: 0.6420 - auc: 0.9306 - val_loss: 0.0412 - val_accuracy: 0.9979 - val_tp: 52.0000 - val_tn: 53240.0000 - val_fp: 57.0000 - val_fn: 53.0000 - val_precision: 0.4771 - val_recall: 0.4952 - val_auc: 0.7947\n",
      "Epoch 42/50\n",
      "161/161 [==============================] - 0s 2ms/step - loss: 0.0035 - accuracy: 0.9993 - tp: 163.0000 - tn: 159924.0000 - fp: 22.0000 - fn: 94.0000 - precision: 0.8811 - recall: 0.6342 - auc: 0.9287 - val_loss: 0.0389 - val_accuracy: 0.9980 - val_tp: 53.0000 - val_tn: 53242.0000 - val_fp: 55.0000 - val_fn: 52.0000 - val_precision: 0.4907 - val_recall: 0.5048 - val_auc: 0.7951\n",
      "Epoch 43/50\n",
      "161/161 [==============================] - 0s 2ms/step - loss: 0.0035 - accuracy: 0.9993 - tp: 168.0000 - tn: 159925.0000 - fp: 21.0000 - fn: 89.0000 - precision: 0.8889 - recall: 0.6537 - auc: 0.9306 - val_loss: 0.0449 - val_accuracy: 0.9980 - val_tp: 53.0000 - val_tn: 53240.0000 - val_fp: 57.0000 - val_fn: 52.0000 - val_precision: 0.4818 - val_recall: 0.5048 - val_auc: 0.7978\n",
      "Epoch 44/50\n",
      "161/161 [==============================] - 0s 2ms/step - loss: 0.0034 - accuracy: 0.9993 - tp: 168.0000 - tn: 159924.0000 - fp: 22.0000 - fn: 89.0000 - precision: 0.8842 - recall: 0.6537 - auc: 0.9307 - val_loss: 0.0365 - val_accuracy: 0.9982 - val_tp: 51.0000 - val_tn: 53256.0000 - val_fp: 41.0000 - val_fn: 54.0000 - val_precision: 0.5543 - val_recall: 0.4857 - val_auc: 0.7951\n",
      "Epoch 45/50\n",
      "161/161 [==============================] - 0s 2ms/step - loss: 0.0034 - accuracy: 0.9993 - tp: 165.0000 - tn: 159925.0000 - fp: 21.0000 - fn: 92.0000 - precision: 0.8871 - recall: 0.6420 - auc: 0.9306 - val_loss: 0.0324 - val_accuracy: 0.9981 - val_tp: 52.0000 - val_tn: 53249.0000 - val_fp: 48.0000 - val_fn: 53.0000 - val_precision: 0.5200 - val_recall: 0.4952 - val_auc: 0.7957\n",
      "Epoch 46/50\n",
      "161/161 [==============================] - 0s 2ms/step - loss: 0.0034 - accuracy: 0.9993 - tp: 167.0000 - tn: 159923.0000 - fp: 23.0000 - fn: 90.0000 - precision: 0.8789 - recall: 0.6498 - auc: 0.9326 - val_loss: 0.0316 - val_accuracy: 0.9980 - val_tp: 50.0000 - val_tn: 53246.0000 - val_fp: 51.0000 - val_fn: 55.0000 - val_precision: 0.4950 - val_recall: 0.4762 - val_auc: 0.7926\n",
      "Epoch 47/50\n",
      "161/161 [==============================] - 0s 2ms/step - loss: 0.0034 - accuracy: 0.9993 - tp: 167.0000 - tn: 159923.0000 - fp: 23.0000 - fn: 90.0000 - precision: 0.8789 - recall: 0.6498 - auc: 0.9306 - val_loss: 0.0307 - val_accuracy: 0.9983 - val_tp: 48.0000 - val_tn: 53262.0000 - val_fp: 35.0000 - val_fn: 57.0000 - val_precision: 0.5783 - val_recall: 0.4571 - val_auc: 0.7923\n",
      "Epoch 48/50\n",
      "161/161 [==============================] - 0s 2ms/step - loss: 0.0034 - accuracy: 0.9993 - tp: 168.0000 - tn: 159926.0000 - fp: 20.0000 - fn: 89.0000 - precision: 0.8936 - recall: 0.6537 - auc: 0.9307 - val_loss: 0.0300 - val_accuracy: 0.9983 - val_tp: 47.0000 - val_tn: 53263.0000 - val_fp: 34.0000 - val_fn: 58.0000 - val_precision: 0.5802 - val_recall: 0.4476 - val_auc: 0.7900\n",
      "Epoch 49/50\n",
      "161/161 [==============================] - 0s 2ms/step - loss: 0.0034 - accuracy: 0.9993 - tp: 166.0000 - tn: 159927.0000 - fp: 19.0000 - fn: 91.0000 - precision: 0.8973 - recall: 0.6459 - auc: 0.9327 - val_loss: 0.0304 - val_accuracy: 0.9980 - val_tp: 50.0000 - val_tn: 53246.0000 - val_fp: 51.0000 - val_fn: 55.0000 - val_precision: 0.4950 - val_recall: 0.4762 - val_auc: 0.7948\n",
      "Epoch 50/50\n",
      "161/161 [==============================] - 0s 2ms/step - loss: 0.0034 - accuracy: 0.9993 - tp: 168.0000 - tn: 159923.0000 - fp: 23.0000 - fn: 89.0000 - precision: 0.8796 - recall: 0.6537 - auc: 0.9307 - val_loss: 0.0307 - val_accuracy: 0.9980 - val_tp: 54.0000 - val_tn: 53239.0000 - val_fp: 58.0000 - val_fn: 51.0000 - val_precision: 0.4821 - val_recall: 0.5143 - val_auc: 0.8023\n"
     ]
    }
   ],
   "source": [
    "# Training the model\n",
    "batch_size = 1000\n",
    "epochs = 50\n",
    "training_history = model.fit(\n",
    "    X_train,\n",
    "    y_train,\n",
    "    validation_data=(X_val, y_val),\n",
    "    epochs=epochs,\n",
    "    batch_size=batch_size,\n",
    "    verbose=1,\n",
    ")"
   ]
  },
  {
   "cell_type": "markdown",
   "metadata": {},
   "source": [
    "### Model Performance"
   ]
  },
  {
   "cell_type": "markdown",
   "metadata": {},
   "source": [
    "#### Checking Training History"
   ]
  },
  {
   "cell_type": "code",
   "execution_count": 15,
   "metadata": {},
   "outputs": [
    {
     "data": {
      "text/plain": [
       "<AxesSubplot:title={'center':'Loss'}, xlabel='Epoch'>"
      ]
     },
     "execution_count": 15,
     "metadata": {},
     "output_type": "execute_result"
    },
    {
     "data": {
      "image/png": "[encoded data removed]",
      "text/plain": [
       "<Figure size 432x288 with 1 Axes>"
      ]
     },
     "metadata": {
      "needs_background": "light"
     },
     "output_type": "display_data"
    }
   ],
   "source": [
    "# Plotting loss\n",
    "loss_df = pd.DataFrame(\n",
    "    {\n",
    "        \"Epoch\": range(1, epochs + 1),\n",
    "        \"Train\": training_history.history[\"loss\"],\n",
    "        \"Val\": training_history.history[\"val_loss\"],\n",
    "    }\n",
    ")\n",
    "loss_df.set_index(\"Epoch\", inplace=True)\n",
    "loss_df.plot(title=\"Loss\")"
   ]
  },
  {
   "cell_type": "code",
   "execution_count": 16,
   "metadata": {},
   "outputs": [
    {
     "data": {
      "text/plain": [
       "<AxesSubplot:title={'center':'Accuracy'}, xlabel='Epoch'>"
      ]
     },
     "execution_count": 16,
     "metadata": {},
     "output_type": "execute_result"
    },
    {
     "data": {
      "image/png": "[encoded data removed]",
      "text/plain": [
       "<Figure size 432x288 with 1 Axes>"
      ]
     },
     "metadata": {
      "needs_background": "light"
     },
     "output_type": "display_data"
    }
   ],
   "source": [
    "# Plotting accuracy\n",
    "accuracy_df = pd.DataFrame(\n",
    "    {\n",
    "        \"Epoch\": range(1, epochs + 1),\n",
    "        \"Train\": training_history.history[\"accuracy\"],\n",
    "        \"Val\": training_history.history[\"val_accuracy\"],\n",
    "    }\n",
    ")\n",
    "accuracy_df.set_index(\"Epoch\", inplace=True)\n",
    "accuracy_df.plot(title=\"Accuracy\")"
   ]
  },
  {
   "cell_type": "markdown",
   "metadata": {},
   "source": [
    "<font color='red'>@@@</font>\n",
    "\n",
    "Below is Area Under Curve (AUC). The more space that falls under the curve, the better.\n",
    "\n",
    "It shows the quality of the model's predictions.\n",
    "\n",
    "15-minute elaboration can be found here: https://youtu.be/4jRBRDbJemM\n",
    "\n",
    "<font color='red'>@@@</font>"
   ]
  },
  {
   "cell_type": "code",
   "execution_count": 17,
   "metadata": {},
   "outputs": [
    {
     "data": {
      "text/plain": [
       "<AxesSubplot:title={'center':'AUC'}, xlabel='Epoch'>"
      ]
     },
     "execution_count": 17,
     "metadata": {},
     "output_type": "execute_result"
    },
    {
     "data": {
      "image/png": "[encoded data removed]",
      "text/plain": [
       "<Figure size 432x288 with 1 Axes>"
      ]
     },
     "metadata": {
      "needs_background": "light"
     },
     "output_type": "display_data"
    }
   ],
   "source": [
    "# Plotting AUC\n",
    "auc_df = pd.DataFrame(\n",
    "    {\n",
    "        \"Epoch\": range(1, epochs + 1),\n",
    "        \"Train\": training_history.history[\"auc\"],\n",
    "        \"Val\": training_history.history[\"val_auc\"],\n",
    "    }\n",
    ")\n",
    "auc_df.set_index(\"Epoch\", inplace=True)\n",
    "auc_df.plot(title=\"AUC\")"
   ]
  },
  {
   "cell_type": "markdown",
   "metadata": {},
   "source": [
    "<font color='red'>@@@</font>\n",
    "\n",
    "The ROC curve requires predictions from the training and validation datasets.\n",
    "\n",
    "It compares predicted vs actuals, to compute the True Positive Rate and False Positive Rates.\n",
    "\n",
    "<font color='red'>@@@</font>"
   ]
  },
  {
   "cell_type": "markdown",
   "metadata": {},
   "source": [
    "#### Plotting the ROC Curve"
   ]
  },
  {
   "cell_type": "code",
   "execution_count": 18,
   "metadata": {},
   "outputs": [],
   "source": [
    "# Import the roc_curve and auc metrics from sklearn\n",
    "from sklearn.metrics import roc_curve, auc"
   ]
  },
  {
   "cell_type": "code",
   "execution_count": 30,
   "metadata": {},
   "outputs": [],
   "source": [
    "# Making predictions to feed the roc_curve module\n",
    "train_predictions = model.predict(X_train, batch_size=1000)\n",
    "test_predictions = model.predict(X_test, batch_size=1000)"
   ]
  },
  {
   "cell_type": "code",
   "execution_count": 33,
   "metadata": {},
   "outputs": [
    {
     "name": "stdout",
     "output_type": "stream",
     "text": [
      "0.9814\n",
      "0.7893\n"
     ]
    }
   ],
   "source": [
    "# Calculate the ROC curve and AUC for the training set\n",
    "fpr_train, tpr_train, thresholds_train = roc_curve(y_train, train_predictions)\n",
    "auc_train = auc(fpr_train, tpr_train)\n",
    "auc_train = round(auc_train, 4)\n",
    "print(auc_train)\n",
    "\n",
    "# Calculate the ROC curve and AUC for the testing set\n",
    "fpr_test, tpr_test, thresholds_test = roc_curve(y_test, test_predictions)\n",
    "auc_test = auc(fpr_test, tpr_test)\n",
    "auc_test = round(auc_test, 4)\n",
    "print(auc_test)"
   ]
  },
  {
   "cell_type": "code",
   "execution_count": 21,
   "metadata": {},
   "outputs": [],
   "source": [
    "# Create a DataFrame with the fpr and tpr results\n",
    "roc_df_train = pd.DataFrame({\"FPR Train\": fpr_train, \"TPR Train\": tpr_train,})\n",
    "\n",
    "roc_df_test = pd.DataFrame({\"FPR Test\": fpr_test, \"TPR Test\": tpr_test,})"
   ]
  },
  {
   "cell_type": "code",
   "execution_count": 22,
   "metadata": {},
   "outputs": [
    {
     "data": {
      "text/plain": [
       "<AxesSubplot:title={'center':'Test ROC Curve (AUC=0.7893)'}, xlabel='FPR Test'>"
      ]
     },
     "execution_count": 22,
     "metadata": {},
     "output_type": "execute_result"
    },
    {
     "data": {
      "image/png": "[encoded data removed]",
      "text/plain": [
       "<Figure size 432x288 with 1 Axes>"
      ]
     },
     "metadata": {
      "needs_background": "light"
     },
     "output_type": "display_data"
    },
    {
     "data": {
      "image/png": "[encoded data removed]",
      "text/plain": [
       "<Figure size 432x288 with 1 Axes>"
      ]
     },
     "metadata": {
      "needs_background": "light"
     },
     "output_type": "display_data"
    }
   ],
   "source": [
    "# Plotting the ROC Curves\n",
    "roc_df_train.plot(\n",
    "    x=\"FPR Train\",\n",
    "    y=\"TPR Train\",\n",
    "    xlim=([-0.05, 1.05]),\n",
    "    title=f\"Train ROC Curve (AUC={auc_train})\",\n",
    ")\n",
    "\n",
    "roc_df_test.plot(\n",
    "    x=\"FPR Test\",\n",
    "    y=\"TPR Test\",\n",
    "    color=\"red\",\n",
    "    style=\"--\",\n",
    "    xlim=([-0.05, 1.05]),\n",
    "    title=f\"Test ROC Curve (AUC={auc_test})\",\n",
    ")"
   ]
  },
  {
   "cell_type": "markdown",
   "metadata": {},
   "source": [
    "<font color='red'>@@@</font>\n",
    "\n",
    "This shows how the models perform with unseen data.\n",
    "\n",
    "<font color='red'>@@@</font>"
   ]
  },
  {
   "cell_type": "markdown",
   "metadata": {},
   "source": [
    "#### Evaluate the Model"
   ]
  },
  {
   "cell_type": "code",
   "execution_count": 48,
   "metadata": {},
   "outputs": [
    {
     "name": "stdout",
     "output_type": "stream",
     "text": [
      "['loss', 'accuracy', 'tp', 'tn', 'fp', 'fn', 'precision', 'recall', 'auc']\n",
      "[0.03129658102989197, 0.9980618357658386, 64.0, 71000.0, 72.0, 66.0, 0.47058823704719543, 0.4923076927661896, 0.8153903484344482]\n",
      "key loss | value 0.03129658102989197\n",
      "key accuracy | value 0.9980618357658386\n",
      "key tp | value 64.0\n",
      "key tn | value 71000.0\n",
      "key fp | value 72.0\n",
      "key fn | value 66.0\n",
      "key precision | value 0.47058823704719543\n",
      "key recall | value 0.4923076927661896\n",
      "key auc | value 0.8153903484344482\n",
      "{'loss': 0.03129658102989197, 'accuracy': 0.9980618357658386, 'tp': 64.0, 'tn': 71000.0, 'fp': 72.0, 'fn': 66.0, 'precision': 0.47058823704719543, 'recall': 0.4923076927661896, 'auc': 0.8153903484344482}\n"
     ]
    }
   ],
   "source": [
    "print(model.metrics_names)\n",
    "print(scores)\n",
    "\n",
    "for key, value in zip(model.metrics_names, scores):\n",
    "    print(\"key\", key, \"|\", \"value\", value)\n",
    "    \n",
    "# one list that contains contents of two lists\n",
    "\n",
    "metrics = {}\n",
    "for key, value in zip(model.metrics_names, scores):\n",
    "    metrics[key] = value\n",
    "    \n",
    "# create dict, append values\n",
    "\n",
    "print(metrics)\n",
    "#this cell generates error until next cell runs, due to dictionary comprehension in next cell - quite complicated!"
   ]
  },
  {
   "cell_type": "code",
   "execution_count": 23,
   "metadata": {},
   "outputs": [
    {
     "data": {
      "text/plain": [
       "{'loss': 0.03129658102989197,\n",
       " 'accuracy': 0.9980618357658386,\n",
       " 'tp': 64.0,\n",
       " 'tn': 71000.0,\n",
       " 'fp': 72.0,\n",
       " 'fn': 66.0,\n",
       " 'precision': 0.47058823704719543,\n",
       " 'recall': 0.4923076927661896,\n",
       " 'auc': 0.8153903484344482}"
      ]
     },
     "metadata": {},
     "output_type": "display_data"
    }
   ],
   "source": [
    "# Evaluate the model\n",
    "scores = model.evaluate(X_test, y_test, verbose=0)\n",
    "\n",
    "# Define metrics dictionary  Dictionary comprehension (similar to above, but compressed)\n",
    "metrics = {k: v for k, v in zip(model.metrics_names, scores)} # takes two list, combine into one list..\n",
    "\n",
    "# Display evaluation metrics results\n",
    "display(metrics)"
   ]
  },
  {
   "cell_type": "markdown",
   "metadata": {},
   "source": [
    "#### Confusion Matrix"
   ]
  },
  {
   "cell_type": "markdown",
   "metadata": {},
   "source": [
    "<font color='red'>@@@</font>\n",
    "\n",
    "### REVIEW AND VALIDATE\n",
    "\n",
    "`\"Positive (1)\": [f\"TP={metrics['tp']}\", f\"FP={metrics['fn']}\"]`\n",
    "\n",
    "`\"Positive (1)\"` = header column, then a list.\n",
    "\n",
    "What follows is a string with a variable inside, which contains a variable. And then, a repeat.\n",
    "\n",
    "<font color='red'>@@@</font>"
   ]
  },
  {
   "cell_type": "code",
   "execution_count": 24,
   "metadata": {},
   "outputs": [
    {
     "data": {
      "text/html": [
       "<div>\n",
       "<style scoped>\n",
       "    .dataframe tbody tr th:only-of-type {\n",
       "        vertical-align: middle;\n",
       "    }\n",
       "\n",
       "    .dataframe tbody tr th {\n",
       "        vertical-align: top;\n",
       "    }\n",
       "\n",
       "    .dataframe thead th {\n",
       "        text-align: right;\n",
       "    }\n",
       "</style>\n",
       "<table border=\"1\" class=\"dataframe\">\n",
       "  <thead>\n",
       "    <tr style=\"text-align: right;\">\n",
       "      <th>Predicted</th>\n",
       "      <th>Positive (1)</th>\n",
       "      <th>Negative (0)</th>\n",
       "    </tr>\n",
       "    <tr>\n",
       "      <th>Actual</th>\n",
       "      <th></th>\n",
       "      <th></th>\n",
       "    </tr>\n",
       "  </thead>\n",
       "  <tbody>\n",
       "    <tr>\n",
       "      <th>Positive(1)</th>\n",
       "      <td>TP=64.0</td>\n",
       "      <td>FN=72.0</td>\n",
       "    </tr>\n",
       "    <tr>\n",
       "      <th>Negative(0)</th>\n",
       "      <td>FP=66.0</td>\n",
       "      <td>TN=71000.0</td>\n",
       "    </tr>\n",
       "  </tbody>\n",
       "</table>\n",
       "</div>"
      ],
      "text/plain": [
       "Predicted   Positive (1) Negative (0)\n",
       "Actual                               \n",
       "Positive(1)      TP=64.0      FN=72.0\n",
       "Negative(0)      FP=66.0   TN=71000.0"
      ]
     },
     "execution_count": 24,
     "metadata": {},
     "output_type": "execute_result"
    }
   ],
   "source": [
    "# Define the confusion matrix data\n",
    "cm_df = pd.DataFrame(\n",
    "    {\n",
    "        \"Positive (1)\": [f\"TP={metrics['tp']}\", f\"FP={metrics['fn']}\"],\n",
    "        \"Negative (0)\": [f\"FN={metrics['fp']}\", f\"TN={metrics['tn']}\"],\n",
    "    },\n",
    "    index=[\"Positive(1)\", \"Negative(0)\"],\n",
    ")\n",
    "cm_df.index.name = \"Actual\"\n",
    "cm_df.columns.name = \"Predicted\"\n",
    "\n",
    "# Show the confusion matrix\n",
    "cm_df"
   ]
  },
  {
   "cell_type": "markdown",
   "metadata": {},
   "source": [
    "#### Classification Report"
   ]
  },
  {
   "cell_type": "code",
   "execution_count": 25,
   "metadata": {
    "tags": []
   },
   "outputs": [
    {
     "name": "stdout",
     "output_type": "stream",
     "text": [
      "              precision    recall  f1-score   support\n",
      "\n",
      "           0       1.00      1.00      1.00     71066\n",
      "           1       0.49      0.47      0.48       136\n",
      "\n",
      "    accuracy                           1.00     71202\n",
      "   macro avg       0.75      0.73      0.74     71202\n",
      "weighted avg       1.00      1.00      1.00     71202\n",
      "\n"
     ]
    }
   ],
   "source": [
    "# Import the classification_report method from sklearn\n",
    "from sklearn.metrics import classification_report\n",
    "\n",
    "# Predict classes using testing data\n",
    "y_predict_classes = (model.predict(X_test) > 0.5).astype(\"int32\")\n",
    "\n",
    "# Display classification report\n",
    "print(classification_report(y_predict_classes, y_test))"
   ]
  },
  {
   "cell_type": "code",
   "execution_count": 26,
   "metadata": {},
   "outputs": [
    {
     "name": "stdout",
     "output_type": "stream",
     "text": [
      "execution time: 24.4 seconds\n"
     ]
    }
   ],
   "source": [
    "t2 = time.perf_counter()\n",
    "execution_time = t2 - t1\n",
    "print(\"execution time: \" + str(round(execution_time, 1)) + \" seconds\")"
   ]
  },
  {
   "cell_type": "markdown",
   "metadata": {},
   "source": [
    "**Btw, a correction on tensors. I might have said that 4D tensors are video. That was wrong:**\n",
    "    \n",
    "> - Vector data—2D tensors of shape (samples, features)\n",
    "> \n",
    "> - Timeseries data or sequence data—3D tensors of shape (samples, timesteps, features)\n",
    "> \n",
    "> - Images—4D tensors of shape (samples, height, width, channels) or (samples, channels, height, width)\n",
    "> \n",
    "> - Video—5D tensors of shape (samples, frames, height, width, channels) or (samples, frames, channels, height, width)\n",
    "\n",
    "Deep Learning with Python, Chollet, pg 35\n"
   ]
  }
 ],
 "metadata": {
  "file_extension": ".py",
  "kernelspec": {
   "display_name": "Python 3 (ipykernel)",
   "language": "python",
   "name": "python3"
  },
  "language_info": {
   "codemirror_mode": {
    "name": "ipython",
    "version": 3
   },
   "file_extension": ".py",
   "mimetype": "text/x-python",
   "name": "python",
   "nbconvert_exporter": "python",
   "pygments_lexer": "ipython3",
   "version": "3.7.11"
  },
  "mimetype": "text/x-python",
  "name": "python",
  "npconvert_exporter": "python",
  "pygments_lexer": "ipython3",
  "version": 3
 },
 "nbformat": 4,
 "nbformat_minor": 4
}
